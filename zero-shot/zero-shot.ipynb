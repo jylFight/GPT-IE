{
 "cells": [
  {
   "cell_type": "code",
   "execution_count": 1,
   "id": "542bd48b-e801-4532-bcea-b8d2ab95c700",
   "metadata": {},
   "outputs": [
    {
     "name": "stderr",
     "output_type": "stream",
     "text": [
      "/home/jiaoyilin/anaconda3/envs/test/lib/python3.8/site-packages/tqdm/auto.py:21: TqdmWarning: IProgress not found. Please update jupyter and ipywidgets. See https://ipywidgets.readthedocs.io/en/stable/user_install.html\n",
      "  from .autonotebook import tqdm as notebook_tqdm\n"
     ]
    }
   ],
   "source": [
    "import os\n",
    "import openai\n",
    "import json\n",
    "import random\n",
    "import time\n",
    "import copy\n",
    "import torch\n",
    "import utils\n",
    "from transformers import AutoTokenizer,AutoConfig, AutoModel\n",
    "openai.api_base=''\n",
    "openai.api_key = ''    #这个用closeai的接口，不需要翻墙"
   ]
  },
  {
   "cell_type": "code",
   "execution_count": null,
   "id": "96c85500",
   "metadata": {},
   "outputs": [],
   "source": [
    "with open('../data/carb_50.txt','r') as f:     \n",
    "    temp_sent=f.readlines()\n",
    "#with open('../data/RE-OIE2016_50.txt','r') as f:     \n",
    "#    temp_sent=f.readlines()\n",
    "#with open('data/RE-OIE2016_50_100.txt','r') as f:     \n",
    "#    temp_sent1=f.readlines()\n",
    "#with open('data/RE-OIE2016_100_200.txt','r') as f:   \n",
    "#    temp_sent2=f.readlines()"
   ]
  },
  {
   "cell_type": "code",
   "execution_count": 4,
   "id": "ff5eb0f8-3503-47a2-91a0-8482c38c6658",
   "metadata": {},
   "outputs": [],
   "source": [
    "task1='Extract the triples which consist of subject, predicate and object from the sentence. '\n",
    "task2='Extract subject-object pairs and the predicate between them in the sentence. Subject-object pairs and predicate should form triples. '\n",
    "task3='Extract the triples which consist of subject, object and the relation between them from the sentence. '\n",
    "task4='Extract two types of triples in the sentence. The first type of triples consist of subject, predicate and object. \\\n",
    "The second type of triples consist of subject, predicate, predicative. '\n",
    "task5='Extract the coherent propositions from a sentence, each comprising of a predicate phrase and two argument phrases. '\n",
    "format1='Output the triples as <subject|predicate|object> and use ; to split the triples. '\n",
    "format2='Print each result as the format Subject-object pairs:(subject,object);Predicate: predicate\\n.'\n",
    "format3='Output the triples as <subject|relation|object> and use ; to split the triples. '\n",
    "format4='Output the triples as <subject|predicate|object> and <subject|predicate|predicative> and use ; to split the triples. '\n",
    "format5='Output the propositions as <argument1|predicate|argument2> and use ; to split the propostions. \\\n",
    "The predicate of some propositions may not be in the sentence, add them. Here is the sentences:'"
   ]
  },
  {
   "cell_type": "code",
   "execution_count": 5,
   "id": "289daacd-737f-41bd-b318-8d4662d3a3d0",
   "metadata": {},
   "outputs": [],
   "source": [
    "message1=[{\"role\": \"system\", \"content\": task1+format1}] \n",
    "message2=[{\"role\": \"system\", \"content\": task2+format2}] \n",
    "message3=[{\"role\": \"system\", \"content\": task3+format3}] \n",
    "message4=[{\"role\": \"system\", \"content\": task4+format4}] \n",
    "message5=[{\"role\": \"system\", \"content\": task5+format5}] "
   ]
  },
  {
   "cell_type": "code",
   "execution_count": null,
   "id": "63f73b69",
   "metadata": {},
   "outputs": [],
   "source": [
    "result=[]\n",
    "for data in temp_sent:\n",
    "    message3.append({\"role\": \"user\", \"content\": data})\n",
    "    temp_result=utils.gptresult(message3)\n",
    "    result.append(temp_result)\n",
    "\n",
    "x=utils.write_result(result,'../result/zero-shot/CaRB/task3.carb',temp_sent)"
   ]
  },
  {
   "cell_type": "code",
   "execution_count": 44,
   "id": "51332cc4-f984-45b3-89e3-090020467f43",
   "metadata": {},
   "outputs": [],
   "source": [
    "\n",
    "request1='Note that the triples which consist of subject, linking verb, and predicate adjective are also need to be extracted. '\n",
    "request2='Extract as many triples as possible from the sentence and think carefully. ' \n",
    "request3='Note that adjectives can also be used as argument.'\n",
    "request4='For example,in the sentence \"she is beautiful.\", \"beautiful\" can be a argument in it. The propositions should be <She|is|beautiful>. '"
   ]
  },
  {
   "cell_type": "code",
   "execution_count": 45,
   "id": "4c3bd210-ddb3-4b04-82fb-2affee507323",
   "metadata": {},
   "outputs": [],
   "source": [
    "message6=[{\"role\": \"system\", \"content\": task1+request1+new_format}]  \n",
    "message7=[{\"role\": \"system\", \"content\": task1+request1+new_format+request2}]\n",
    "message8=[{\"role\": \"system\", \"content\": task1+request3+format5}]   \n",
    "message9=[{\"role\": \"system\", \"content\": task1+request3+request4+format5}]"
   ]
  },
  {
   "cell_type": "code",
   "execution_count": null,
   "id": "1e458c02",
   "metadata": {},
   "outputs": [],
   "source": [
    "result=[]\n",
    "for data in temp_sent:\n",
    "    message8.append({\"role\": \"user\", \"content\": data})\n",
    "    temp_result=utils.gptresult(message8)\n",
    "    result.append(temp_result)\n",
    "x=utils.write_result(result,'../result/zero-shot/CaRB/request3.carb',temp_sent)\n"
   ]
  },
  {
   "cell_type": "code",
   "execution_count": 5,
   "id": "7f28dbff-d045-4e1a-818d-e8e6a5d81b94",
   "metadata": {},
   "outputs": [],
   "source": [
    "role1='You are a open information extractor. '       #两个role差别不大\n",
    "role2='You are a open relation extractor. '\n",
    "role3='You are an expert in the field of knowledge graph construction. '\n",
    "role4='You are a linguist.'\n",
    "role5='You are a propositional scientist.'\n",
    "role6='I want you to act as a sentence information extractor.'\n",
    "aim='You extract these propositions in order to build a knowledge graph. \\\n",
    "The points in the graph are the arguments in the proposition and the edges in the graph are the relation between these parameters. '\n",
    "magic='Let us think step by step.'\n",
    "magic2='Let us work this out in a step by step way to be sure we have the right answer.'\n",
    "message4=[{\"role\": \"system\", \"content\": role1+task1+format1}] \n",
    "message5=[{\"role\": \"system\", \"content\": role2+task1+format1}] \n",
    "message6=[{\"role\": \"system\", \"content\": role1+task1+aim+format1}] \n",
    "message7=[{\"role\": \"system\", \"content\": role3+task1+aim+format1}] \n",
    "message8=[{\"role\": \"system\", \"content\": role4+task1+format1}] \n",
    "message9=[{\"role\": \"system\", \"content\": role5+task1+format1}] \n",
    "message10=[{\"role\": \"system\", \"content\": task1+format1+magic}]\n",
    "message11=[{\"role\": \"system\", \"content\": task1+format1+magic2}]\n",
    "message12=[{\"role\": \"system\", \"content\": role6+task1+format1}]"
   ]
  },
  {
   "cell_type": "code",
   "execution_count": null,
   "id": "231dc29b",
   "metadata": {},
   "outputs": [],
   "source": [
    "result=[]\n",
    "for data in temp_sent:\n",
    "    message12.append({\"role\": \"user\", \"content\": data})\n",
    "    temp_result=utils.gptresult(message12)\n",
    "    result.append(temp_result)\n",
    "x=utils.write_result(result,'../result/zero-shot/CaRB/role6.carb',temp_sent)"
   ]
  },
  {
   "cell_type": "code",
   "execution_count": 13,
   "id": "dc332ddc-d585-42bc-860e-02e17480592f",
   "metadata": {},
   "outputs": [],
   "source": [
    "generate_prompt1='I want you to act as a ChatGPT prompt generator. I will send a topic,\\\n",
    "you have to generate a ChatGPT prompt based on the content of the topic. \\\n",
    "The prompt should start with “I want you to act as “, and guess what I might do, \\\n",
    "and expand the prompt accordingly Describe the content to make it useful.\\\n",
    "The topic is: Extract the triples which consist of subject, predicate and object from the sentence.\\\n",
    "And the result need to be the format: <subject|predicate|object>.'\n",
    "\n",
    "generate_prompt2='I want you to act as a prompt generator. \\\n",
    "Firstly, I will give you a title like this: “Act as an English Pronunciation Helper”. \\\n",
    "Then you give me a prompt like this: “I want you to act as an English pronunciation assistant for Turkish speaking people. \\\n",
    "I will write your sentences, and you will only answer their pronunciations, and nothing else. \\\n",
    "The replies must not be translations of my sentences but only pronunciations. \\\n",
    "Pronunciations should use Turkish Latin letters for phonetics. Do not write explanations on replies. \\\n",
    "My first sentence is “how the weather is in Istanbul?”.” (You should adapt the sample prompt according to the title I gave. \\\n",
    "The prompt should be self-explanatory and appropriate to the title, don’t refer to the example I gave you.). '\n",
    "prompt1='My first title is “Act as a sentence propositions extractor” (Give me prompt only)'\n",
    "prompt2='My first title is “Act as a sentence <subject|predicate|object> triples extractor” (Give me prompt only)'\n",
    "\n",
    "enhance_prompt='Act as a Prompt Enhancer AI that takes user-input prompts and transforms them into more engaging, detailed, and thought-provoking prompts. '\n"
   ]
  },
  {
   "cell_type": "code",
   "execution_count": 53,
   "id": "d3cfb02c-b66f-4635-a195-78fd9a81ea0e",
   "metadata": {},
   "outputs": [
    {
     "data": {
      "text/plain": [
       "'Develop a method to identify and extract the core components - subject, predicate, and object - from a given sentence. Your focus should be solely on these three elements, disregarding any adverbs present in the sentence. Present your findings in the format <subject | predicate | object>, using a semicolon to separate each distinct triple. This task will test your understanding of sentence structure and your ability to isolate key elements within a complex context.'"
      ]
     },
     "execution_count": 53,
     "metadata": {},
     "output_type": "execute_result"
    }
   ],
   "source": [
    "message=[{\"role\": \"system\", \"content\": enhance_prompt}] \n",
    "temp_prompt='Extract the triples which consist of subject, predicate and object from the sentence. \\\n",
    "There is no need to extract the adverbs of sentence in the extraction process.\\\n",
    "Output the triples as <subject |predicate |object> and use ‘;’ to split the triples.'\n",
    "message.append({\"role\": \"user\", \"content\": temp_prompt})\n",
    "concept_test = openai.ChatCompletion.create(model=\"gpt-4\",messages=message,temperature=0)\n",
    "new_prompt=concept_test['choices'][0]['message']['content']\n",
    "new_prompt"
   ]
  },
  {
   "cell_type": "code",
   "execution_count": null,
   "id": "f8d127d5",
   "metadata": {},
   "outputs": [],
   "source": [
    "%%time\n",
    "generate_message=[{\"role\": \"system\", \"content\": new_prompt}]\n",
    "result=[]\n",
    "for data in temp_sent:\n",
    "    generate_message.append({\"role\": \"user\", \"content\": data})\n",
    "    temp_result=utils.gptresult(generate_message)\n",
    "    result.append(temp_result)\n",
    "utils.write_result(result,'../result/zero-shot/CaRB/enhance_task1.txt',temp_sent)"
   ]
  }
 ],
 "metadata": {
  "kernelspec": {
   "display_name": "Python 3 (ipykernel)",
   "language": "python",
   "name": "python3"
  },
  "language_info": {
   "codemirror_mode": {
    "name": "ipython",
    "version": 3
   },
   "file_extension": ".py",
   "mimetype": "text/x-python",
   "name": "python",
   "nbconvert_exporter": "python",
   "pygments_lexer": "ipython3",
   "version": "3.8.17"
  }
 },
 "nbformat": 4,
 "nbformat_minor": 5
}
