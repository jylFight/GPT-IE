{
 "cells": [
  {
   "cell_type": "code",
   "execution_count": null,
   "id": "ee13b846",
   "metadata": {},
   "outputs": [],
   "source": [
    "import os\n",
    "import json\n",
    "import random\n",
    "import copy\n",
    "import torch\n",
    "import utils\n",
    "from transformers import AutoTokenizer,AutoConfig, AutoModel\n",
    "import openai\n",
    "import re\n",
    "openai.api_base=''\n",
    "openai.api_key = ''    #这个用closeai的接口，不需要翻墙"
   ]
  },
  {
   "cell_type": "code",
   "execution_count": 2,
   "id": "949da7ab-dbc1-4c86-b488-b4cf2d1e9ed6",
   "metadata": {},
   "outputs": [
    {
     "name": "stdout",
     "output_type": "stream",
     "text": [
      "50 32.7 % of all households were made up of individuals and 15.7 % had someone living alone who was 65 years of age or older .\n",
      "\n"
     ]
    }
   ],
   "source": [
    "\n",
    "with open('../data/carb/carb_50.txt','r') as f:     \n",
    "    temp_sent=f.readlines()\n",
    "#with open('../data/RE-OIE2016_50.txt','r') as f:    \n",
    "#    temp_sent=f.readlines()\n",
    "#with open('../data/LSOIE/LSOIE_50.txt','r') as f:     \n",
    "#    temp_sent=f.readlines()\n",
    "#with open('data/RE-OIE2016_50_100.txt','r') as f:    \n",
    "#    temp_sent=f.readlines()\n",
    "#with open('data/RE-OIE2016_100_200.txt','r') as f:    \n",
    "#    temp_sent=f.readlines()\n",
    "\n",
    "print(len(temp_sent),temp_sent[0])"
   ]
  },
  {
   "cell_type": "code",
   "execution_count": null,
   "id": "b21298ee",
   "metadata": {},
   "outputs": [],
   "source": [
    "def write_result(result,file_name,sent_list):\n",
    "    with open(file_name,'w') as f:\n",
    "        for i in range(len(sent_list)):\n",
    "            #print(i)\n",
    "            for triples in result[i]:\n",
    "                triple1=triples.replace('<','')\n",
    "                triple2=triple1.replace('>','')\n",
    "                triple2=triple2.replace('\\n','')\n",
    "                temp_data=triple2.split('|')\n",
    "                if len(temp_data)==3:\n",
    "                    f.write(sent_list[i][:-1]+'\\t <arg1> '+temp_data[0]+' </arg1> <rel> '+temp_data[1]+' </rel> <arg2> '+temp_data[2]+' </arg2>\\t0.1\\n')"
   ]
  },
  {
   "cell_type": "code",
   "execution_count": 5,
   "id": "97915f98-5e45-4fea-9da2-7e5f8113cfee",
   "metadata": {},
   "outputs": [],
   "source": [
    "cot_1='Extract the triples which consist of subject, predicate and object in the sentence only from the perspective of sentence structure. \\\n",
    "Output the triples as <subject|predicate|object> and use ; to split the triples. '\n",
    "cot_2 = 'Determine whether these triples are accurate and reasonable based on the meaning of the sentence. \\\n",
    "If the triple is accurate and reasonable, output the original triple. \\\n",
    "Otherwise, modify or delete it. Use \";\" to split the triples. '\n",
    "cot_3 = 'Are there any triples which not extracted based on the meaning of the sentence before. \\\n",
    "If there is, please output the triple as <argument1|predicate|argument2> and use \";\" split them. If not, output no.'\n",
    "check='In all results of triples above, check that each triplet is correct. \\\n",
    "Output the triples you think are correct and use \";\" to split them.'"
   ]
  },
  {
   "cell_type": "code",
   "execution_count": 17,
   "id": "851181b1-90a0-4560-a746-cb52096cb9a1",
   "metadata": {},
   "outputs": [
    {
     "name": "stdout",
     "output_type": "stream",
     "text": [
      "CPU times: user 3.36 s, sys: 227 ms, total: 3.59 s\n",
      "Wall time: 25min 23s\n"
     ]
    }
   ],
   "source": [
    "%%time\n",
    "cot1_result,cot2_result,cot3_result,check_result=[],[],[],[]       \n",
    "for index,sent in enumerate(temp_sent):\n",
    "    message=[{\"role\": \"system\", \"content\": cot_1},{\"role\": \"user\", \"content\": sent}]\n",
    "    temp_result1=utils.gptresult(message)\n",
    "    cot1_result.append(temp_result1)\n",
    "    message.append({\"role\":\"assistant\",\"content\":';'.join(temp_result1)})\n",
    "    message.append({\"role\": \"user\", \"content\": cot_2})\n",
    "    temp_result2=utils.gptresult(message)\n",
    "    cot2_result.append(temp_result2)\n",
    "    message.append({\"role\":\"assistant\",\"content\":';'.join(temp_result2)})\n",
    "    message.append({\"role\": \"user\", \"content\": cot_3})\n",
    "    temp_result3=utils.gptresult(message)\n",
    "    cot3_result.append(temp_result3)\n",
    "    message.append({\"role\":\"assistant\",\"content\":';'.join(temp_result3)})\n",
    "    message.append({\"role\": \"user\", \"content\": check})\n",
    "    temp_result4=utils.gptresult(message)\n",
    "    check_result.append(temp_result4)"
   ]
  },
  {
   "cell_type": "code",
   "execution_count": 11,
   "id": "5aac1a51-6ec4-4196-89c2-361597b6f32e",
   "metadata": {},
   "outputs": [],
   "source": [
    "def write_cot3(cot3result,cot2result,sent_list,file_name):\n",
    "    new_cot3_result=[]\n",
    "    for i in range(len(cot3result)):\n",
    "        if 'no' in cot3result[i] or 'No' in cot3result[i] or 'NO' in cot3result[i]:\n",
    "            new_cot3_result.append(cot2result[i])\n",
    "            continue\n",
    "        else:\n",
    "            new_cot3_result.append(cot2result[i]+cot3result[i])\n",
    "    #这样结合cot2和cot3的result就完成了\n",
    "    write_result(new_cot3_result,file_name,sent_list)"
   ]
  },
  {
   "cell_type": "code",
   "execution_count": 18,
   "id": "76770aa8-06ad-435d-be05-a59b756b5dab",
   "metadata": {},
   "outputs": [],
   "source": [
    "write_result(cot1_result,'../result/zero-shot/CaRB/cot_1.carb',temp_sent)\n",
    "write_result(cot2_result,'../result/zero-shot/CaRB/cot_2.carb',temp_sent)\n",
    "write_cot3(cot3_result,cot2_result,temp_sent,'../result/zero-shot/CaRB/cot_3.carb')\n",
    "write_result(check_result,'../result/zero-shot/CaRB/cot_3_check.carb',temp_sent)\n"
   ]
  },
  {
   "cell_type": "code",
   "execution_count": null,
   "id": "811f8b8c-d447-4caf-b3c5-e84c1e2e0752",
   "metadata": {},
   "outputs": [],
   "source": [
    "#以上，CoT就完事了，然后我要加Self-check和各自结果的比较"
   ]
  },
  {
   "cell_type": "code",
   "execution_count": 8,
   "id": "eded118b-3b78-44ba-962b-4cbc6e89de5a",
   "metadata": {},
   "outputs": [
    {
     "data": {
      "text/plain": [
       "\"input_string = '<arg1> a </arg1> <rel> b </rel> <arg2> c </arg2>'\\noutput = extract_content(input_string)\""
      ]
     },
     "execution_count": 8,
     "metadata": {},
     "output_type": "execute_result"
    }
   ],
   "source": [
    "#GPT生成的提取，函数，具体用法可以运行下面备注的代码\n",
    "def extract_content(input_string):\n",
    "    content_list = re.findall(r'<[^>]+>\\s*([^<]+)\\s*</[^>]+>', input_string)\n",
    "    result = '|'.join(content_list)\n",
    "    return result\n",
    "\n",
    "'''input_string = '<arg1> a </arg1> <rel> b </rel> <arg2> c </arg2>'\n",
    "output = extract_content(input_string)'''"
   ]
  },
  {
   "cell_type": "code",
   "execution_count": 9,
   "id": "7d1ad1c4-b222-4136-90f3-4c101b1d145a",
   "metadata": {},
   "outputs": [],
   "source": [
    "def get_triples_from_carb(carb_data,sent_data):\n",
    "    #测试通过\n",
    "    result,triple,sent_result=[],'',[]\n",
    "    sent_result.append(carb_data[0].split('\\t')[0])               #先把第一个句子加进去，方便之后做\n",
    "    for data in carb_data:\n",
    "        new_data=data.split('\\t')\n",
    "        data_sent=new_data[0]\n",
    "        if data_sent not in sent_result or data==carb_data[-1]:                     #遇到新的句子了，可以记录了结果了,或走到最后一个句子了\n",
    "            result.append(triple[:-1])\n",
    "            sent_result.append(data_sent)\n",
    "            triple=''\n",
    "        triple += '<'+extract_content(new_data[1])+'>;'\n",
    "    return result"
   ]
  },
  {
   "cell_type": "code",
   "execution_count": 21,
   "id": "469abdae-2a73-49c2-a5e7-829f4c50cd84",
   "metadata": {
    "scrolled": true
   },
   "outputs": [],
   "source": [
    "with open('result/zero-shot/CaRB/cot_1.carb','r') as f:\n",
    "    cot1_data=f.readlines()\n",
    "cot1_result=get_triples_from_carb(cot1_data,temp_sent)\n",
    "cot1_check=[]       #平均一个数据1块钱，时间到好一些，大约半分钟一个？\n",
    "for index,sent in enumerate(temp_sent):\n",
    "    message=[{\"role\": \"system\", \"content\": cot_1},{\"role\": \"user\", \"content\": sent},\n",
    "             {\"role\": \"assistant\", \"content\": cot1_result[index]},{\"role\": \"user\", \"content\": check},]\n",
    "    temp_result=utils.gptresult(message)\n",
    "    cot1_check.append(temp_result)\n",
    "write_result(cot1_check,'../result/zero-shot/CaRB/cot_1_check.carb',temp_sent)"
   ]
  }
 ],
 "metadata": {
  "kernelspec": {
   "display_name": "Python 3 (ipykernel)",
   "language": "python",
   "name": "python3"
  },
  "language_info": {
   "codemirror_mode": {
    "name": "ipython",
    "version": 3
   },
   "file_extension": ".py",
   "mimetype": "text/x-python",
   "name": "python",
   "nbconvert_exporter": "python",
   "pygments_lexer": "ipython3",
   "version": "3.8.17"
  }
 },
 "nbformat": 4,
 "nbformat_minor": 5
}
