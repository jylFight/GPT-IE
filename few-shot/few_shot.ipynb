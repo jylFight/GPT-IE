{
 "cells": [
  {
   "cell_type": "code",
   "execution_count": 1,
   "id": "0cfe9dff-bb10-4249-9707-a0762d96f174",
   "metadata": {},
   "outputs": [],
   "source": [
    "import os\n",
    "import openai\n",
    "import json\n",
    "import random\n",
    "import copy\n",
    "import torch\n",
    "import utils\n",
    "openai.api_base=''\n",
    "openai.api_key = ''    #这个用closeai的接口，不需要翻墙\n",
    "random.seed(10)"
   ]
  },
  {
   "cell_type": "code",
   "execution_count": 3,
   "id": "d7b912e1-5cfe-4eaa-9933-4fc9ca0c7bfc",
   "metadata": {},
   "outputs": [],
   "source": [
    "#按照空行切割一下原始list，得到每个句子的8个最相似样本\n",
    "def deal(list_ori,p):   \n",
    "    list_new=[]\t\t\t\t#处理后的列表，是一个二维列表\n",
    "    list_short=[]\t\t\t#用于存放每一段列表\n",
    "    for i in list_ori:\n",
    "        if i!=p:\t\t\n",
    "            list_short.append(i)\n",
    "        else:\n",
    "            list_new.append(list_short)\n",
    "            list_short=[]\n",
    "    #list_new.append(list_short)   #最后一段遇不到切割标识，需要手动放入\n",
    "    return list_new\n",
    "#测试成功"
   ]
  },
  {
   "cell_type": "code",
   "execution_count": 4,
   "id": "0fe763be-f64c-475b-ba29-f54e37be6dae",
   "metadata": {},
   "outputs": [],
   "source": [
    "def deal_dev(dev_data):\n",
    "    new_data=[]\n",
    "    for data in dev_data:\n",
    "        if 'Triples' in data:\n",
    "            temp_data=data.replace('Triples','You are expected to output')\n",
    "            if temp_data[-2]==';':\n",
    "                    temp_data=temp_data[:-2]+'\\n'\n",
    "            new_data.append(temp_data)\n",
    "        else:\n",
    "            new_data.append(data)\n",
    "    return new_data"
   ]
  },
  {
   "cell_type": "code",
   "execution_count": 4,
   "id": "012eb01d-01ea-41cc-a2c7-a313119fa491",
   "metadata": {},
   "outputs": [],
   "source": [
    "def context_gpt(sent_data,context_data,context_num):\n",
    "    result=[]\n",
    "    task1='Extract the triples which consist of subject, predicate and object from the sentence. \\\n",
    "Output the triples as <subject|predicate|object> and use ; to split the triples. Following are some examples. '\n",
    "    for i in range(len(sent_data)):\n",
    "        prompt=task1+''.join(context_data[i][:2*context_num])\n",
    "        message=[{\"role\": \"system\", \"content\": prompt}]\n",
    "        message.append({\"role\": \"user\", \"content\": sent_data[i][:-1]})\n",
    "        temp_result=utils.gptresult(message)\n",
    "        result.append(temp_result)\n",
    "        print('演示数：',context_num,'句子序号：',i)\n",
    "    return result\n",
    "#测试通过"
   ]
  },
  {
   "cell_type": "markdown",
   "id": "455baec3-1520-49ae-84b5-624c8e5c5d68",
   "metadata": {},
   "source": [
    "#随机选取样本的操作函数\n",
    "def context_gpt_random(sent_data,tsv_data,context_num):\n",
    "    result=[]\n",
    "    task1='Extract the triples which consist of subject, predicate and object from the sentence. \\\n",
    "Output the triples as <subject|predicate|object> and use ; to split the triples. Following are some examples. ' \n",
    "    for i in range(len(sent_data)):\n",
    "        context=''\n",
    "        random_numbers = random.sample(range(0,int(len(tsv_data)/2),2), context_num)     #取偶数，这样才能得到句子和sample,而且每次都随机取\n",
    "        for num in random_numbers:\n",
    "            context+=''.join(tsv_data[num:num+2])\n",
    "        prompt=task1+context\n",
    "        message=[{\"role\": \"system\", \"content\": prompt}]\n",
    "        message.append({\"role\": \"user\", \"content\": sent_data[i][:-1]})\n",
    "        temp_result=utils.gptresult(message)\n",
    "        result.append(temp_result)\n",
    "        print('演示数：',context_num,'句子序号：',i)\n",
    "    return result\n",
    "#测试通过"
   ]
  },
  {
   "cell_type": "code",
   "execution_count": 5,
   "id": "dc1afdef-a881-4161-9412-520a64988717",
   "metadata": {},
   "outputs": [],
   "source": [
    "def write_result(result,file_name,sent_list):\n",
    "    with open(file_name,'w') as f:\n",
    "        for i in range(len(sent_list)):\n",
    "            print(i)\n",
    "            for triple in result[i]:\n",
    "                if 'Triples:' in triple:\n",
    "                    triple.replace('Triples:','')\n",
    "                if '<Triples:' in triple:\n",
    "                    triple.replace('<Triples:','')\n",
    "                if triple=='':\n",
    "                    continue\n",
    "                triple1=triple.replace('<','')\n",
    "                triple2=triple1.replace('>','')\n",
    "                temp_data=triple2.split('|')\n",
    "                f.write(sent_list[i][:-1]+'\\t <arg1> '+temp_data[0]+' </arg1> <rel> '+temp_data[1]+' </rel> <arg2> '+temp_data[2]+' </arg2>\\t0.1\\n')"
   ]
  },
  {
   "cell_type": "code",
   "execution_count": 6,
   "id": "3db86040-309b-4bf6-bc88-6ea5deb6d3f9",
   "metadata": {},
   "outputs": [],
   "source": [
    "with open('../data/carb/carb_50.txt','r') as f:     \n",
    "    sent_50=f.readlines()\n",
    "with open('../data/carb/carb_context_byBERTandConsti.txt','r') as f:\n",
    "    dev_data=f.readlines()\n",
    "new_dev=deal_dev(dev_data)\n",
    "context_data=deal(new_dev,'\\n')"
   ]
  },
  {
   "cell_type": "code",
   "execution_count": null,
   "id": "25797050",
   "metadata": {},
   "outputs": [],
   "source": [
    "sent_data=sent_50\n",
    "for context_num in range(3,9):\n",
    "    result=[]\n",
    "    task1='Extract the triples which consist of subject, predicate and object from the sentence. \\\n",
    "Output the triples as <subject|predicate|object> and use ; to split the triples. Following are some examples. '\n",
    "    for i in range(len(sent_data)):\n",
    "        prompt=task1+''.join(context_data[i][:2*context_num])\n",
    "        message=[{\"role\": \"system\", \"content\": prompt}]\n",
    "        message.append({\"role\": \"user\", \"content\": sent_data[i][:-1]})\n",
    "        temp_result=utils.gptresult(message)\n",
    "        result.append(temp_result)\n",
    "        print('演示数：',context_num,'句子序号：',i)\n",
    "    write_result(result,'../result/few-shot/CaRB/bertandconsti'+str(context_num)+'.carb',sent_50)"
   ]
  }
 ],
 "metadata": {
  "kernelspec": {
   "display_name": "Python [conda env:test] *",
   "language": "python",
   "name": "conda-env-test-py"
  },
  "language_info": {
   "codemirror_mode": {
    "name": "ipython",
    "version": 3
   },
   "file_extension": ".py",
   "mimetype": "text/x-python",
   "name": "python",
   "nbconvert_exporter": "python",
   "pygments_lexer": "ipython3",
   "version": "3.8.17"
  }
 },
 "nbformat": 4,
 "nbformat_minor": 5
}
